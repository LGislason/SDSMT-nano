{
  "cells": [
    {
      "cell_type": "markdown",
      "metadata": {},
      "source": [
        "# Project: Starter Notebook\n",
        "\n",
        "Date: {{ auto }}  \n",
        "Author: <Leif Gislason>\n",
        "\n",
        "## How to run\n",
        "1. Run the next cell to set paths and imports\n",
        "2. Run cells top to bottom\n",
        "\n",
        "## Summary of findings\n",
        "- Fill this in after you run\n"
      ]
    },
    {
      "cell_type": "code",
      "execution_count": null,
      "metadata": {},
      "outputs": [],
      "source": [
        "from pathlib import Path\n",
        "import pandas as pd\n",
        "import numpy as np\n",
        "import matplotlib.pyplot as plt\n",
        "\n",
        "# Change this path to your OneDrive location if needed\n",
        "DATA_DIR = Path('/mnt/onedrive/ProjectName/data')\n",
        "RAW = DATA_DIR / 'raw'\n",
        "PROC = DATA_DIR / 'processed'\n",
        "\n",
        "try:\n",
        "    from src.project_name.utils import summary_table\n",
        "except Exception:\n",
        "    summary_table = lambda df: df.describe(include='all')\n",
        "\n",
        "print('DATA_DIR =', DATA_DIR)\n"
      ]
    }
  ],
  "metadata": {
    "kernelspec": {
      "display_name": "Python 3",
      "language": "python",
      "name": "python3"
    },
    "language_info": {
      "name": "python",
      "version": "3.x"
    }
  },
  "nbformat": 4,
  "nbformat_minor": 5
}